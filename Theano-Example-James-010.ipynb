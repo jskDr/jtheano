{
 "cells": [
  {
   "cell_type": "markdown",
   "metadata": {},
   "source": [
    "# Simple Regression - 1"
   ]
  },
  {
   "cell_type": "code",
   "execution_count": 4,
   "metadata": {
    "collapsed": true
   },
   "outputs": [],
   "source": [
    "import theano\n",
    "from theano import tensor as T\n",
    "\n",
    "import numpy as np"
   ]
  },
  {
   "cell_type": "markdown",
   "metadata": {},
   "source": [
    "Data is generated."
   ]
  },
  {
   "cell_type": "code",
   "execution_count": 30,
   "metadata": {
    "collapsed": false
   },
   "outputs": [
    {
     "name": "stdout",
     "output_type": "stream",
     "text": [
      "(10,) (10,)\n",
      "[-0.04913825 -0.23397362 -1.23491585  0.00967856  0.52145471  1.48633335\n",
      "  0.09225377  1.91431047  1.20856688  0.73250194]\n",
      "[-0.0982765  -0.46794724 -2.46983169  0.01935712  1.04290943  2.9726667\n",
      "  0.18450753  3.82862093  2.41713376  1.46500389]\n"
     ]
    }
   ],
   "source": [
    "N = 10\n",
    "x_a = np.random.randn( N)\n",
    "y_a = 2 * x_a\n",
    "print( x_a.shape, y_a.shape)\n",
    "print( x_a)\n",
    "print( y_a)"
   ]
  },
  {
   "cell_type": "markdown",
   "metadata": {},
   "source": [
    "Function for Theano is created. \n",
    "The share variable of w is set as zero. "
   ]
  },
  {
   "cell_type": "code",
   "execution_count": 31,
   "metadata": {
    "collapsed": true
   },
   "outputs": [],
   "source": [
    "x = T.scalar()\n",
    "y = T.scalar()\n",
    "w = theano.shared( 0)"
   ]
  },
  {
   "cell_type": "code",
   "execution_count": 32,
   "metadata": {
    "collapsed": true
   },
   "outputs": [],
   "source": [
    "e = y - w*x"
   ]
  },
  {
   "cell_type": "code",
   "execution_count": 33,
   "metadata": {
    "collapsed": false
   },
   "outputs": [],
   "source": [
    "t_func = theano.function( inputs = [x, y], outputs = e)"
   ]
  },
  {
   "cell_type": "markdown",
   "metadata": {},
   "source": [
    "The generated function is processed with the data."
   ]
  },
  {
   "cell_type": "code",
   "execution_count": 34,
   "metadata": {
    "collapsed": false
   },
   "outputs": [
    {
     "name": "stdout",
     "output_type": "stream",
     "text": [
      "[-0.0982765  -0.46794724 -2.46983169  0.01935712  1.04290943  2.9726667\n",
      "  0.18450753  3.82862093  2.41713376  1.46500389]\n"
     ]
    }
   ],
   "source": [
    "e_l = list()\n",
    "for xi, yi in zip( x_a, y_a):\n",
    "    e_l.append( t_func( xi, yi))\n",
    "e_a = np.array( e_l)\n",
    "print( e_a)"
   ]
  },
  {
   "cell_type": "code",
   "execution_count": null,
   "metadata": {
    "collapsed": true
   },
   "outputs": [],
   "source": []
  }
 ],
 "metadata": {
  "kernelspec": {
   "display_name": "Python 3",
   "language": "python",
   "name": "python3"
  },
  "language_info": {
   "codemirror_mode": {
    "name": "ipython",
    "version": 3
   },
   "file_extension": ".py",
   "mimetype": "text/x-python",
   "name": "python",
   "nbconvert_exporter": "python",
   "pygments_lexer": "ipython3",
   "version": "3.5.1"
  }
 },
 "nbformat": 4,
 "nbformat_minor": 0
}
