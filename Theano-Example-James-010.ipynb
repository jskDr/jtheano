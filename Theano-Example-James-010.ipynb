{
 "cells": [
  {
   "cell_type": "markdown",
   "metadata": {},
   "source": [
    "# 파이썬 테아노(Python Theano)로 시작하는 딥러닝#1\n",
    "\n",
    "하버드에와서 협업을 하게된 옆 빌딩에 있는 머쉰러닝 컴퓨팅 연구실에서는 딥러닝을 위해 테아노를 사용하고 있다. 좋은 툴이 많은데 굳이 그 연구실에서는 테아노를 고집하는지 궁금했었다. 최근 워크샵에서 테아노를 알고 보니 알고리즘을 연구하는 팀에서는 사용하는게 당연하다는 생각이 들 정도로 테아노는 장점이 많았다.\n",
    "\n",
    "테아노는 투명 상자처럼 알고리즘을 투영해 볼 수 있다는점이 다른 딥러닝 라이브러리들과 차이이다. 알고리즘을 투영해 볼 수는 있지만, 코딩하기가 어렵지는 않다. 대신 문제가 생겼을 때 쉽게 고칠 수 있다. 장단점은 있는데, sklearn을 통한 머쉰러닝의 경우에 Ridge로하는 레귤라이제이션이 무엇인지 구체적으로 몰라도 사용할 수 있지만 현재의 테아노 방식은 수식을 봐가면서 처리한다는 점이 다르다.\n",
    "\n",
    "링크한 예제는 테아노의 변수와 함수를 만드는 가장 기본적인 방법을 다루고 있다. 테아노 방식을 심볼릭 처리 방식이라고 한다. 예제에서 e = y - w*x라고 적은 부분은 바로 계산이 되지 않는다. 이 것은 e라는 변수를 정의하는 문구이다. 수학에서 $y = x + 1$이라 적었다고 해서 $y$가 특정한 상수로 바뀌지 않는 것과 같은 원리이다. 추후 $x$가 어떤 값으로 정해지고 나면 $y$값도 알 수 있게된다.\n",
    "\n",
    "이런 방식은 sympy라는 대수를 다루는 파이썬 라이브러리에서 사용하는 개념인데 테아노에도 적용이 되었다. 좀 더 거창하게 생각해보면 계산과학에 있어 수치해석 방식에서 대수 방식으로 한단계 진보하는데 기여한 툴이 테아노라고 생각할 수 있다.\n",
    "\n",
    "특히 theano.function()은 지정한 입, 출력 변수들을 보고 둘을 연결시키는 코드를 내부적으로 생성한다. 지금은 C코드를 생성하도록 되어 있다. 이 코드는 사용자의 지정에 따라 CPU 전용 코드가 될 수도 있고, GPU 전용 코드로 생성될 수도 있다. 파이썬 코드 상에서는 손될게 없다. 모든 것은 자동이다.\n",
    "\n",
    "정의된 함수를 입력값을 이용하여 수행하게 되는데, 이 때 만들어진 함수는 출력값을 돌려보낸다. 앞서 설명한 심볼릭 관계에 의한 계산한 결과가 출력값으로 생성되게 된다. 본 예제는 단순한 관계를 보이기 위해 입력 값을 스칼라로 지정했지만 벡터, 메트릭스, 텐스가 입력 값으로 사용될 수 있다.\n",
    "\n",
    "파이썬은 C언어를 삼키고 성장한 언어라고 한다면, 테아노는 파이썬으로 자신을 감춘 새로운 개념의 언어라 할 수 있다. 물론 테아노는 그런 개념의 시작에 불과하다. 테아노의 신개념도 중요하지만, 딥러닝이라는 거대한 알고리즘을 돌릴 수 있는 표준 개방형 플랫폼으로 자리잡고 있다는데 더 주목할 필요가 있다.\n",
    "\n",
    "아울러 파이썬 위에서 돌아가는 테아노, 테아노로 구현하는 딥러닝도 중요하지만 역시 프로그래머가 단순 개발자가 되지 않기 위해서는 딥러닝으로 어떤 분야를 혁신할지를 고민하고 실천하는게 필요하다고 본다. 나도 기존에는 IT의 한분야인 핸드폰용 모뎀을 모델링하는 부분을 코딩으로 짰지만, 지금은 IT와 다소 거리가 있는 분야에 도전하고 있다.\n",
    "\n",
    "바로 신약이나 새로운 배터리 물질을 딥러닝을 이용하여 예측하는 분야이다. 아직 고전 중에 있지만, 나는 이 분야를 잘하기 위해서는 컴퓨팅 공부도 중요하지만 새로운 분야에 대한 도메인 지식의 습득도 중요하다는 것을 알게되었다. 배터리의 동작 원리는 무엇이고, 새로운 소재는 어떤 화학적 원리로 전압을 생성하게 되는지 등을 잘 이해해야 결국 꿈꾸고 있는 소프트웨어를 통한 산업 혁신이 가능하다는 점을 갈수록 더욱 뼈저리게 느끼고 있다.\n",
    "\n",
    "테아노를 통한 딥러닝 이해는 이정도 수준에서 시작하지만, 갈 수록 더욱 흥미진진하게 디스켜션할 수 있으니라 예상해본다.\n",
    "\n",
    "작성: 김성진\n",
    "\n",
    "2016년 1월 19일"
   ]
  },
  {
   "cell_type": "code",
   "execution_count": 4,
   "metadata": {
    "collapsed": true
   },
   "outputs": [],
   "source": [
    "import theano\n",
    "from theano import tensor as T\n",
    "\n",
    "import numpy as np"
   ]
  },
  {
   "cell_type": "markdown",
   "metadata": {},
   "source": [
    "Data is generated."
   ]
  },
  {
   "cell_type": "code",
   "execution_count": 30,
   "metadata": {
    "collapsed": false
   },
   "outputs": [
    {
     "name": "stdout",
     "output_type": "stream",
     "text": [
      "(10,) (10,)\n",
      "[-0.04913825 -0.23397362 -1.23491585  0.00967856  0.52145471  1.48633335\n",
      "  0.09225377  1.91431047  1.20856688  0.73250194]\n",
      "[-0.0982765  -0.46794724 -2.46983169  0.01935712  1.04290943  2.9726667\n",
      "  0.18450753  3.82862093  2.41713376  1.46500389]\n"
     ]
    }
   ],
   "source": [
    "N = 10\n",
    "x_a = np.random.randn( N)\n",
    "y_a = 2 * x_a\n",
    "print( x_a.shape, y_a.shape)\n",
    "print( x_a)\n",
    "print( y_a)"
   ]
  },
  {
   "cell_type": "markdown",
   "metadata": {},
   "source": [
    "Function for Theano is created. \n",
    "The share variable of w is set as zero. "
   ]
  },
  {
   "cell_type": "code",
   "execution_count": 31,
   "metadata": {
    "collapsed": true
   },
   "outputs": [],
   "source": [
    "x = T.scalar()\n",
    "y = T.scalar()\n",
    "w = theano.shared( 0)"
   ]
  },
  {
   "cell_type": "code",
   "execution_count": 32,
   "metadata": {
    "collapsed": true
   },
   "outputs": [],
   "source": [
    "e = y - w*x"
   ]
  },
  {
   "cell_type": "code",
   "execution_count": 33,
   "metadata": {
    "collapsed": false
   },
   "outputs": [],
   "source": [
    "t_func = theano.function( inputs = [x, y], outputs = e)"
   ]
  },
  {
   "cell_type": "markdown",
   "metadata": {},
   "source": [
    "The generated function is processed with the data."
   ]
  },
  {
   "cell_type": "code",
   "execution_count": 34,
   "metadata": {
    "collapsed": false
   },
   "outputs": [
    {
     "name": "stdout",
     "output_type": "stream",
     "text": [
      "[-0.0982765  -0.46794724 -2.46983169  0.01935712  1.04290943  2.9726667\n",
      "  0.18450753  3.82862093  2.41713376  1.46500389]\n"
     ]
    }
   ],
   "source": [
    "e_l = list()\n",
    "for xi, yi in zip( x_a, y_a):\n",
    "    e_l.append( t_func( xi, yi))\n",
    "e_a = np.array( e_l)\n",
    "print( e_a)"
   ]
  },
  {
   "cell_type": "code",
   "execution_count": null,
   "metadata": {
    "collapsed": true
   },
   "outputs": [],
   "source": []
  }
 ],
 "metadata": {
  "kernelspec": {
   "display_name": "Python 2",
   "language": "python",
   "name": "python2"
  },
  "language_info": {
   "codemirror_mode": {
    "name": "ipython",
    "version": 2
   },
   "file_extension": ".py",
   "mimetype": "text/x-python",
   "name": "python",
   "nbconvert_exporter": "python",
   "pygments_lexer": "ipython2",
   "version": "2.7.6"
  }
 },
 "nbformat": 4,
 "nbformat_minor": 0
}
